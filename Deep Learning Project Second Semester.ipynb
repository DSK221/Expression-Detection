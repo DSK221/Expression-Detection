{
 "cells": [
  {
   "cell_type": "markdown",
   "id": "d2ee4c20",
   "metadata": {},
   "source": [
    "# Importing the Required Libraries"
   ]
  },
  {
   "cell_type": "code",
   "execution_count": 58,
   "id": "91a06e2f",
   "metadata": {},
   "outputs": [],
   "source": [
    "import numpy as np\n",
    "import pandas as pd\n",
    "import os\n",
    "import cv2\n",
    "from tqdm import tqdm\n",
    "import matplotlib.pyplot as plt"
   ]
  },
  {
   "cell_type": "markdown",
   "id": "d6886a8f",
   "metadata": {},
   "source": [
    "# Reading the Image data and Storing in the CSV files."
   ]
  },
  {
   "cell_type": "markdown",
   "id": "2cba3ac3",
   "metadata": {},
   "source": [
    "The data set consists of the Seven(7) types of the facial expressions.\n",
    "\n",
    "1. Suprised.\n",
    "2. Sad.\n",
    "3. Neutral.\n",
    "4. Happy.\n",
    "5. Fearful.\n",
    "6. Disgusted.\n",
    "7. Angry.\n",
    "\n",
    "Here, the traiing data consists of more than the 1000 images for each type of expressions."
   ]
  },
  {
   "cell_type": "code",
   "execution_count": 77,
   "id": "19df96f2",
   "metadata": {},
   "outputs": [],
   "source": [
    "class read_data_and_store_in_csv_file:\n",
    "  # CONSTRUCTOR\n",
    "  def __init__(self):\n",
    "    pass\n",
    "\n",
    "  def reading_images(self):\n",
    "    print(\"Excuting the function 'Reading Images' \")\n",
    "    \n",
    "    #Getting the data path from local computer\n",
    "    data_location_path    = 'Downloads//FACE_DATA//train'   \n",
    "    \n",
    "    #Getting the folder names from path and deleting unrequired folders\n",
    "    self.Expression_types =  os.listdir(data_location_path) \n",
    "    del self.Expression_types[1]\n",
    "    \n",
    "    #Collecting the data and converting into CSV file\n",
    "    self.Image_data = {}\n",
    "    for expression in self.Expression_types:\n",
    "        images_path = os.path.join(data_location_path,expression)\n",
    "        for image in os.listdir(images_path):\n",
    "            reading_image = cv2.imread(os.path.join(images_path,image),cv2.IMREAD_GRAYSCALE)\n",
    "            try:\n",
    "                self.Image_data[expression].append(np.array(reading_image,dtype=np.int64))\n",
    "            except:\n",
    "                self.Image_data[expression] = [np.array(reading_image,dtype=np.int64)]\n",
    "            \n",
    "            \n",
    "    print(\"\\n Status :\",'\\033[92m'+ \"DONE\"+'\\033[0m')\n",
    "    pass\n",
    "\n",
    "  def Statistical_view_of_data(self):\n",
    "    print(\"Excuting the function 'Statistical view of data' \")\n",
    "    plt.figure(figsize=(10,6))\n",
    "    plt.title('Image Training Data Statistics')\n",
    "    #plt.xlabel()\n",
    "    #plt.ylabel()\n",
    "    plt.bar(self.Image_data.keys(),[len(self.Image_data[key]) for key in self.Image_data.keys()])\n",
    "    print(\"\\n Status :\",'\\033[92m'+ \"DONE\"+'\\033[0m')\n",
    "    pass\n",
    "        \n",
    "        \n",
    "\n",
    "if __name__ == '__main__':\n",
    "    #Initializing the Object fo the above class\n",
    "    object_read_data = read_data_and_store_in_csv_file()"
   ]
  },
  {
   "cell_type": "code",
   "execution_count": 78,
   "id": "915f5ff9",
   "metadata": {},
   "outputs": [
    {
     "name": "stdout",
     "output_type": "stream",
     "text": [
      "Excuting the function 'Reading Images' \n",
      "\n",
      " Status : \u001b[92mDONE\u001b[0m\n"
     ]
    }
   ],
   "source": [
    "#Getting the Image names from the folders\n",
    "object_read_data.reading_images()"
   ]
  },
  {
   "cell_type": "code",
   "execution_count": 79,
   "id": "1920ab1e",
   "metadata": {},
   "outputs": [
    {
     "name": "stdout",
     "output_type": "stream",
     "text": [
      "Excuting the function 'Statistical view of data' \n",
      "\n",
      " Status : \u001b[92mDONE\u001b[0m\n"
     ]
    },
    {
     "data": {
      "image/png": "[encoded data removed]",
      "text/plain": [
       "<Figure size 720x432 with 1 Axes>"
      ]
     },
     "metadata": {
      "needs_background": "light"
     },
     "output_type": "display_data"
    }
   ],
   "source": [
    "# Getting the Statistical Information of Data\n",
    "object_read_data.Statistical_view_of_data()"
   ]
  },
  {
   "cell_type": "code",
   "execution_count": null,
   "id": "d438eb15",
   "metadata": {},
   "outputs": [],
   "source": []
  }
 ],
 "metadata": {
  "kernelspec": {
   "display_name": "Python 3",
   "language": "python",
   "name": "python3"
  },
  "language_info": {
   "codemirror_mode": {
    "name": "ipython",
    "version": 3
   },
   "file_extension": ".py",
   "mimetype": "text/x-python",
   "name": "python",
   "nbconvert_exporter": "python",
   "pygments_lexer": "ipython3",
   "version": "3.8.8"
  }
 },
 "nbformat": 4,
 "nbformat_minor": 5
}
